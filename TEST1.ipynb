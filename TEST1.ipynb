{
  "nbformat": 4,
  "nbformat_minor": 0,
  "metadata": {
    "colab": {
      "provenance": [],
      "authorship_tag": "ABX9TyOhJzo6ZpR3m3XeXD3dHx4y",
      "include_colab_link": true
    },
    "kernelspec": {
      "name": "python3",
      "display_name": "Python 3"
    },
    "language_info": {
      "name": "python"
    }
  },
  "cells": [
    {
      "cell_type": "markdown",
      "metadata": {
        "id": "view-in-github",
        "colab_type": "text"
      },
      "source": [
        "<a href=\"https://colab.research.google.com/github/DhruvHaritash13/RL1/blob/main/TEST1.ipynb\" target=\"_parent\"><img src=\"https://colab.research.google.com/assets/colab-badge.svg\" alt=\"Open In Colab\"/></a>"
      ]
    },
    {
      "cell_type": "code",
      "execution_count": 5,
      "metadata": {
        "colab": {
          "base_uri": "https://localhost:8080/"
        },
        "id": "hF5tvTtXNhif",
        "outputId": "ebc05e6b-e22a-4e51-f085-b1f6485f25a4"
      },
      "outputs": [
        {
          "output_type": "stream",
          "name": "stdout",
          "text": [
            "Which type of pet do you have? Dog, Cat, or Bird? Dog\n",
            "Is your dog below 3 years old? yes\n",
            "Schedule a checkup for a young dog.\n"
          ]
        }
      ],
      "source": [
        "def pet_checkup_schedule():\n",
        "    pet_type = input(\"Which type of pet do you have? Dog, Cat, or Bird? \")\n",
        "\n",
        "    if pet_type == \"Dog\":\n",
        "        is_dog_below_3_years_old = input(\"Is your dog below 3 years old? \")\n",
        "        if is_dog_below_3_years_old.lower() == \"yes\":\n",
        "\n",
        "            print(\"Schedule a checkup for a young dog.\")\n",
        "        else:\n",
        "\n",
        "            print(\"Schedule a checkup for an older dog.\")\n",
        "\n",
        "    elif pet_type == \"Cat\":\n",
        "        is_cat_below_2_years_old = input(\"Is your cat below 2 years old? \")\n",
        "        if is_cat_below_2_years_old.lower() == \"yes\":\n",
        "\n",
        "           print(\"Schedule a checkup for a young cat.\")\n",
        "        else:\n",
        "\n",
        "            print(\"Schedule a checkup for an older cat.\")\n",
        "\n",
        "    else:\n",
        "        is_bird_below_1_year_old = input(\"Is your bird below 1 year old? \")\n",
        "        if is_bird_below_1_year_old.lower() == \"yes\":\n",
        "\n",
        "            print(\"Schedule a checkup for a young bird.\")\n",
        "        else:\n",
        "\n",
        "            print(\"Schedule a checkup for an older bird.\")\n",
        "\n",
        "if __name__ == \"__main__\":\n",
        "    pet_checkup_schedule()\n"
      ]
    }
  ]
}