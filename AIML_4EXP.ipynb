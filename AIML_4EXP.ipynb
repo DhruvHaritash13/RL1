{
  "nbformat": 4,
  "nbformat_minor": 0,
  "metadata": {
    "colab": {
      "provenance": [],
      "authorship_tag": "ABX9TyP7jrvmI9y6yW2F104Qwovw",
      "include_colab_link": true
    },
    "kernelspec": {
      "name": "python3",
      "display_name": "Python 3"
    },
    "language_info": {
      "name": "python"
    }
  },
  "cells": [
    {
      "cell_type": "markdown",
      "metadata": {
        "id": "view-in-github",
        "colab_type": "text"
      },
      "source": [
        "<a href=\"https://colab.research.google.com/github/DhruvHaritash13/RL1/blob/main/AIML_4EXP.ipynb\" target=\"_parent\"><img src=\"https://colab.research.google.com/assets/colab-badge.svg\" alt=\"Open In Colab\"/></a>"
      ]
    },
    {
      "cell_type": "code",
      "execution_count": null,
      "metadata": {
        "colab": {
          "base_uri": "https://localhost:8080/"
        },
        "id": "RAkz44CjnBXW",
        "outputId": "73ed6ca1-03cb-4ecc-a968-ea44b37e40d3"
      },
      "outputs": [
        {
          "output_type": "stream",
          "name": "stdout",
          "text": [
            "Original data:\n",
            "[[0 1 0]\n",
            " [0 1 1]\n",
            " [0 1 0]\n",
            " [0 1 1]]\n",
            "After Variance Threshold feature selection:\n",
            "[[0]\n",
            " [1]\n",
            " [0]\n",
            " [1]]\n"
          ]
        }
      ],
      "source": [
        "from sklearn.feature_selection import VarianceThreshold\n",
        "import numpy as np\n",
        "\n",
        "# Create a sample dataset\n",
        "X = np.array([[0, 1, 0], [0, 1, 1], [0, 1, 0], [0, 1, 1]])\n",
        "\n",
        "# Initialize the VarianceThreshold object\n",
        "selector = VarianceThreshold(threshold=0.2)\n",
        "\n",
        "# Fit and transform the data\n",
        "X_new = selector.fit_transform(X)\n",
        "\n",
        "print(\"Original data:\")\n",
        "print(X)\n",
        "print(\"After Variance Threshold feature selection:\")\n",
        "print(X_new)\n",
        "\n"
      ]
    },
    {
      "cell_type": "code",
      "source": [
        "from sklearn.feature_selection import SelectKBest\n",
        "from sklearn.feature_selection import chi2\n",
        "import numpy as np\n",
        "\n",
        "# Create a sample dataset\n",
        "X = np.array([[1, 0, 1], [2, 0, 2], [3, 1, 3], [4, 1, 4]])\n",
        "y = np.array([0, 1, 0, 1])\n",
        "\n",
        "# Initialize SelectKBest with the chi-squared test\n",
        "selector = SelectKBest(score_func=chi2, k=2)\n",
        "\n",
        "# Fit and transform the data\n",
        "X_new = selector.fit_transform(X, y)\n",
        "\n",
        "print(\"Original data:\")\n",
        "print(X)\n",
        "print(\"After SelectKBest with Chi-Squared feature selection:\")\n",
        "print(X_new)\n"
      ],
      "metadata": {
        "colab": {
          "base_uri": "https://localhost:8080/"
        },
        "id": "uGvEikqTnbz4",
        "outputId": "dbe7fb74-22be-4035-8f00-11fdeeec7af5"
      },
      "execution_count": null,
      "outputs": [
        {
          "output_type": "stream",
          "name": "stdout",
          "text": [
            "Original data:\n",
            "[[1 0 1]\n",
            " [2 0 2]\n",
            " [3 1 3]\n",
            " [4 1 4]]\n",
            "After SelectKBest with Chi-Squared feature selection:\n",
            "[[1 1]\n",
            " [2 2]\n",
            " [3 3]\n",
            " [4 4]]\n"
          ]
        }
      ]
    },
    {
      "cell_type": "code",
      "source": [],
      "metadata": {
        "id": "JlTqAApIpSud"
      },
      "execution_count": null,
      "outputs": []
    }
  ]
}